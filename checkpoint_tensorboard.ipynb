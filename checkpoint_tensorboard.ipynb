{
 "cells": [
  {
   "cell_type": "code",
   "execution_count": 9,
   "metadata": {},
   "outputs": [
    {
     "name": "stdout",
     "output_type": "stream",
     "text": [
      "2.0\n"
     ]
    }
   ],
   "source": [
    "from tensorboardX import SummaryWriter\n",
    "import tensorboardX\n",
    "import os\n",
    "\n",
    "print(tensorboardX.__version__)"
   ]
  },
  {
   "cell_type": "code",
   "execution_count": 10,
   "metadata": {
    "collapsed": true
   },
   "outputs": [],
   "source": [
    "checkpoint_dir = \"/home/maxingpei/GAN/CycleGAN/code/pytorch-CycleGAN-and-pix2pix/checkpoints/young2old_cyclegan\"\n",
    "save_tensorboard_path = \"/home/maxingpei/GAN/CycleGAN/code/pytorch-CycleGAN-and-pix2pix/notebook/runs\"\n",
    "\n",
    "loss_log_path = os.path.join(checkpoint_dir, \"loss_log.txt\")\n"
   ]
  },
  {
   "cell_type": "code",
   "execution_count": 11,
   "metadata": {
    "collapsed": true
   },
   "outputs": [],
   "source": [
    "losses_writer = SummaryWriter(save_tensorboard_path)\n",
    "\n",
    "losses_dict = {}\n",
    "index = 0"
   ]
  },
  {
   "cell_type": "code",
   "execution_count": 12,
   "metadata": {},
   "outputs": [],
   "source": [
    "with open(loss_log_path, \"r\") as ll:\n",
    "    infos = ll.readlines()\n",
    "    loss_infos = infos[4:]\n",
    "    for line in loss_infos:\n",
    "        loss_info = line.split()\n",
    "        \n",
    "        index += 1\n",
    "        \n",
    "        # SummaryWriter.add_scalar => tag\n",
    "        # SummaryWriter.add_scalar => scalar_value\n",
    "        for name_index in range(8, len(loss_info), 2):\n",
    "            tag_name = loss_info[name_index]\n",
    "            tag_name = tag_name.replace(':', '')\n",
    "             \n",
    "            loss_value = float(loss_info[name_index + 1])\n",
    "            \n",
    "            losses_dict[tag_name] = loss_value\n",
    "            \n",
    "        # SummaryWriter.add_scalar => global_step\n",
    "        loss_step = index\n",
    "        \n",
    "        # Record loss to log\n",
    "        for tag_name, loss_value in losses_dict.items():\n",
    "            losses_writer.add_scalar(tag_name, loss_value, global_step=loss_step)\n",
    "        "
   ]
  },
  {
   "cell_type": "code",
   "execution_count": null,
   "metadata": {
    "collapsed": true
   },
   "outputs": [],
   "source": [
    "# Execute terminal commands to open the tensorboard visual interface\n",
    "# os.system(\" \\\n",
    "# tensorboard --logdir=/home/maxingpei/GAN/CycleGAN/code/pytorch-CycleGAN-and-pix2pix/notebook/runs\")"
   ]
  },
  {
   "cell_type": "code",
   "execution_count": null,
   "metadata": {
    "collapsed": true
   },
   "outputs": [],
   "source": []
  }
 ],
 "metadata": {
  "kernelspec": {
   "display_name": "Python [conda env:pytorch]",
   "language": "python",
   "name": "conda-env-pytorch-py"
  },
  "language_info": {
   "codemirror_mode": {
    "name": "ipython",
    "version": 3
   },
   "file_extension": ".py",
   "mimetype": "text/x-python",
   "name": "python",
   "nbconvert_exporter": "python",
   "pygments_lexer": "ipython3",
   "version": "3.5.5"
  }
 },
 "nbformat": 4,
 "nbformat_minor": 2
}
